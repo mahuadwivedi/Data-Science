{
 "cells": [
  {
   "cell_type": "markdown",
   "id": "a78e8cf2-17be-4520-b2e6-042fa6659f68",
   "metadata": {},
   "source": [
    "## Fraud Detection\n",
    "#### Mahua Dwivedi"
   ]
  },
  {
   "cell_type": "markdown",
   "id": "1a0dc7a0-cf33-4265-9658-819ddfa1cc4b",
   "metadata": {},
   "source": [
    "#### Data Dictionary:\n",
    "* step - maps a unit of time in the real world. In this case 1 step is 1 hour of time. Total steps 744 (30 days simulation).\n",
    "* type - CASH-IN, CASH-OUT, DEBIT, PAYMENT and TRANSFER.\n",
    "* amount - amount of the transaction in local currency.\n",
    "* nameOrig - customer who started the transaction\n",
    "* oldbalanceOrg - initial balance before the transaction\n",
    "* newbalanceOrig - new balance after the transaction\n",
    "* nameDest - customer who is the recipient of the transaction\n",
    "* oldbalanceDest - initial balance recipient before the transaction. Note that there is not information for customers that start with M (Merchants).\n",
    "* newbalanceDest - new balance recipient after the transaction. Note that there is not information for customers that start with M (Merchants).\n",
    "* isFraud - This is the transactions made by the fraudulent agents inside the simulation. In this specific dataset the fraudulent behavior of the agents aims to profit by taking control or customers accounts and try to empty the funds by transferring to another account and then cashing out of the system.\n",
    "* isFlaggedFraud - The business model aims to control massive transfers from one account to another and flags illegal attempts. An illegal attempt in this dataset is an attempt to transfer more than 200.000 in a single transaction."
   ]
  },
  {
   "cell_type": "markdown",
   "id": "429fef24-8a7c-4fb7-8fa2-3859ce02721b",
   "metadata": {},
   "source": [
    "#### Approach:\n",
    "* Carrying out the detection using predictive modeling and will use logistic regression as the model"
   ]
  },
  {
   "cell_type": "code",
   "execution_count": 1,
   "id": "2beebafc-8ade-4aac-8e1b-c27408fd7e3b",
   "metadata": {},
   "outputs": [],
   "source": [
    "import pandas as pd\n",
    "import seaborn as sns\n",
    "import matplotlib.pyplot as plt\n",
    "from imblearn.over_sampling import SMOTE\n",
    "from sklearn.model_selection import train_test_split\n",
    "from sklearn.linear_model import LogisticRegression\n",
    "from sklearn.preprocessing import StandardScaler, OneHotEncoder\n",
    "from sklearn.metrics import confusion_matrix, classification_report"
   ]
  },
  {
   "cell_type": "code",
   "execution_count": 2,
   "id": "29c92a16-e04b-43ff-8efd-2a96d30f887d",
   "metadata": {},
   "outputs": [],
   "source": [
    "df=pd.read_csv(r\"C:\\mahua\\Projects\\Accredian\\Fraud.csv\")"
   ]
  },
  {
   "cell_type": "code",
   "execution_count": 3,
   "id": "51212659-571e-48a8-b3c9-b6c54c4cf739",
   "metadata": {},
   "outputs": [
    {
     "name": "stdout",
     "output_type": "stream",
     "text": [
      "<class 'pandas.core.frame.DataFrame'>\n",
      "RangeIndex: 6362620 entries, 0 to 6362619\n",
      "Data columns (total 11 columns):\n",
      " #   Column          Dtype  \n",
      "---  ------          -----  \n",
      " 0   step            int64  \n",
      " 1   type            object \n",
      " 2   amount          float64\n",
      " 3   nameOrig        object \n",
      " 4   oldbalanceOrg   float64\n",
      " 5   newbalanceOrig  float64\n",
      " 6   nameDest        object \n",
      " 7   oldbalanceDest  float64\n",
      " 8   newbalanceDest  float64\n",
      " 9   isFraud         int64  \n",
      " 10  isFlaggedFraud  int64  \n",
      "dtypes: float64(5), int64(3), object(3)\n",
      "memory usage: 534.0+ MB\n"
     ]
    }
   ],
   "source": [
    "df.info()"
   ]
  },
  {
   "cell_type": "code",
   "execution_count": 28,
   "id": "979892a4-5776-4882-bb62-72b169075086",
   "metadata": {},
   "outputs": [
    {
     "data": {
      "text/html": [
       "<div>\n",
       "<style scoped>\n",
       "    .dataframe tbody tr th:only-of-type {\n",
       "        vertical-align: middle;\n",
       "    }\n",
       "\n",
       "    .dataframe tbody tr th {\n",
       "        vertical-align: top;\n",
       "    }\n",
       "\n",
       "    .dataframe thead th {\n",
       "        text-align: right;\n",
       "    }\n",
       "</style>\n",
       "<table border=\"1\" class=\"dataframe\">\n",
       "  <thead>\n",
       "    <tr style=\"text-align: right;\">\n",
       "      <th></th>\n",
       "      <th>0</th>\n",
       "      <th>1</th>\n",
       "      <th>2</th>\n",
       "      <th>3</th>\n",
       "      <th>4</th>\n",
       "    </tr>\n",
       "  </thead>\n",
       "  <tbody>\n",
       "    <tr>\n",
       "      <th>step</th>\n",
       "      <td>1</td>\n",
       "      <td>1</td>\n",
       "      <td>1</td>\n",
       "      <td>1</td>\n",
       "      <td>1</td>\n",
       "    </tr>\n",
       "    <tr>\n",
       "      <th>type</th>\n",
       "      <td>PAYMENT</td>\n",
       "      <td>PAYMENT</td>\n",
       "      <td>TRANSFER</td>\n",
       "      <td>CASH_OUT</td>\n",
       "      <td>PAYMENT</td>\n",
       "    </tr>\n",
       "    <tr>\n",
       "      <th>amount</th>\n",
       "      <td>9839.64</td>\n",
       "      <td>1864.28</td>\n",
       "      <td>181.0</td>\n",
       "      <td>181.0</td>\n",
       "      <td>11668.14</td>\n",
       "    </tr>\n",
       "    <tr>\n",
       "      <th>nameOrig</th>\n",
       "      <td>C1231006815</td>\n",
       "      <td>C1666544295</td>\n",
       "      <td>C1305486145</td>\n",
       "      <td>C840083671</td>\n",
       "      <td>C2048537720</td>\n",
       "    </tr>\n",
       "    <tr>\n",
       "      <th>oldbalanceOrg</th>\n",
       "      <td>170136.0</td>\n",
       "      <td>21249.0</td>\n",
       "      <td>181.0</td>\n",
       "      <td>181.0</td>\n",
       "      <td>41554.0</td>\n",
       "    </tr>\n",
       "    <tr>\n",
       "      <th>newbalanceOrig</th>\n",
       "      <td>160296.36</td>\n",
       "      <td>19384.72</td>\n",
       "      <td>0.0</td>\n",
       "      <td>0.0</td>\n",
       "      <td>29885.86</td>\n",
       "    </tr>\n",
       "    <tr>\n",
       "      <th>nameDest</th>\n",
       "      <td>M1979787155</td>\n",
       "      <td>M2044282225</td>\n",
       "      <td>C553264065</td>\n",
       "      <td>C38997010</td>\n",
       "      <td>M1230701703</td>\n",
       "    </tr>\n",
       "    <tr>\n",
       "      <th>oldbalanceDest</th>\n",
       "      <td>0.0</td>\n",
       "      <td>0.0</td>\n",
       "      <td>0.0</td>\n",
       "      <td>21182.0</td>\n",
       "      <td>0.0</td>\n",
       "    </tr>\n",
       "    <tr>\n",
       "      <th>newbalanceDest</th>\n",
       "      <td>0.0</td>\n",
       "      <td>0.0</td>\n",
       "      <td>0.0</td>\n",
       "      <td>0.0</td>\n",
       "      <td>0.0</td>\n",
       "    </tr>\n",
       "    <tr>\n",
       "      <th>isFraud</th>\n",
       "      <td>0</td>\n",
       "      <td>0</td>\n",
       "      <td>1</td>\n",
       "      <td>1</td>\n",
       "      <td>0</td>\n",
       "    </tr>\n",
       "    <tr>\n",
       "      <th>isFlaggedFraud</th>\n",
       "      <td>0</td>\n",
       "      <td>0</td>\n",
       "      <td>0</td>\n",
       "      <td>0</td>\n",
       "      <td>0</td>\n",
       "    </tr>\n",
       "    <tr>\n",
       "      <th>amount_ratio</th>\n",
       "      <td>0.057834</td>\n",
       "      <td>0.087731</td>\n",
       "      <td>0.994505</td>\n",
       "      <td>0.994505</td>\n",
       "      <td>0.280788</td>\n",
       "    </tr>\n",
       "    <tr>\n",
       "      <th>balance_change_orig</th>\n",
       "      <td>-0.057834</td>\n",
       "      <td>-0.087731</td>\n",
       "      <td>-0.994505</td>\n",
       "      <td>-0.994505</td>\n",
       "      <td>-0.280788</td>\n",
       "    </tr>\n",
       "    <tr>\n",
       "      <th>balance_change_dest</th>\n",
       "      <td>0.0</td>\n",
       "      <td>0.0</td>\n",
       "      <td>0.0</td>\n",
       "      <td>-0.999953</td>\n",
       "      <td>0.0</td>\n",
       "    </tr>\n",
       "  </tbody>\n",
       "</table>\n",
       "</div>"
      ],
      "text/plain": [
       "                               0            1            2           3  \\\n",
       "step                           1            1            1           1   \n",
       "type                     PAYMENT      PAYMENT     TRANSFER    CASH_OUT   \n",
       "amount                   9839.64      1864.28        181.0       181.0   \n",
       "nameOrig             C1231006815  C1666544295  C1305486145  C840083671   \n",
       "oldbalanceOrg           170136.0      21249.0        181.0       181.0   \n",
       "newbalanceOrig         160296.36     19384.72          0.0         0.0   \n",
       "nameDest             M1979787155  M2044282225   C553264065   C38997010   \n",
       "oldbalanceDest               0.0          0.0          0.0     21182.0   \n",
       "newbalanceDest               0.0          0.0          0.0         0.0   \n",
       "isFraud                        0            0            1           1   \n",
       "isFlaggedFraud                 0            0            0           0   \n",
       "amount_ratio            0.057834     0.087731     0.994505    0.994505   \n",
       "balance_change_orig    -0.057834    -0.087731    -0.994505   -0.994505   \n",
       "balance_change_dest          0.0          0.0          0.0   -0.999953   \n",
       "\n",
       "                               4  \n",
       "step                           1  \n",
       "type                     PAYMENT  \n",
       "amount                  11668.14  \n",
       "nameOrig             C2048537720  \n",
       "oldbalanceOrg            41554.0  \n",
       "newbalanceOrig          29885.86  \n",
       "nameDest             M1230701703  \n",
       "oldbalanceDest               0.0  \n",
       "newbalanceDest               0.0  \n",
       "isFraud                        0  \n",
       "isFlaggedFraud                 0  \n",
       "amount_ratio            0.280788  \n",
       "balance_change_orig    -0.280788  \n",
       "balance_change_dest          0.0  "
      ]
     },
     "execution_count": 28,
     "metadata": {},
     "output_type": "execute_result"
    }
   ],
   "source": [
    "df.head().T"
   ]
  },
  {
   "cell_type": "code",
   "execution_count": 27,
   "id": "825b3d4e-4d44-4e37-bc76-724d49667585",
   "metadata": {},
   "outputs": [
    {
     "data": {
      "text/html": [
       "<div>\n",
       "<style scoped>\n",
       "    .dataframe tbody tr th:only-of-type {\n",
       "        vertical-align: middle;\n",
       "    }\n",
       "\n",
       "    .dataframe tbody tr th {\n",
       "        vertical-align: top;\n",
       "    }\n",
       "\n",
       "    .dataframe thead th {\n",
       "        text-align: right;\n",
       "    }\n",
       "</style>\n",
       "<table border=\"1\" class=\"dataframe\">\n",
       "  <thead>\n",
       "    <tr style=\"text-align: right;\">\n",
       "      <th></th>\n",
       "      <th>count</th>\n",
       "      <th>mean</th>\n",
       "      <th>std</th>\n",
       "      <th>min</th>\n",
       "      <th>25%</th>\n",
       "      <th>50%</th>\n",
       "      <th>75%</th>\n",
       "      <th>max</th>\n",
       "    </tr>\n",
       "  </thead>\n",
       "  <tbody>\n",
       "    <tr>\n",
       "      <th>step</th>\n",
       "      <td>6362620.0</td>\n",
       "      <td>2.433972e+02</td>\n",
       "      <td>1.423320e+02</td>\n",
       "      <td>1.0</td>\n",
       "      <td>156.000000</td>\n",
       "      <td>239.000000</td>\n",
       "      <td>3.350000e+02</td>\n",
       "      <td>7.430000e+02</td>\n",
       "    </tr>\n",
       "    <tr>\n",
       "      <th>amount</th>\n",
       "      <td>6362620.0</td>\n",
       "      <td>1.798619e+05</td>\n",
       "      <td>6.038582e+05</td>\n",
       "      <td>0.0</td>\n",
       "      <td>13389.570000</td>\n",
       "      <td>74871.940000</td>\n",
       "      <td>2.087215e+05</td>\n",
       "      <td>9.244552e+07</td>\n",
       "    </tr>\n",
       "    <tr>\n",
       "      <th>oldbalanceOrg</th>\n",
       "      <td>6362620.0</td>\n",
       "      <td>8.338831e+05</td>\n",
       "      <td>2.888243e+06</td>\n",
       "      <td>0.0</td>\n",
       "      <td>0.000000</td>\n",
       "      <td>14208.000000</td>\n",
       "      <td>1.073152e+05</td>\n",
       "      <td>5.958504e+07</td>\n",
       "    </tr>\n",
       "    <tr>\n",
       "      <th>newbalanceOrig</th>\n",
       "      <td>6362620.0</td>\n",
       "      <td>8.551137e+05</td>\n",
       "      <td>2.924049e+06</td>\n",
       "      <td>0.0</td>\n",
       "      <td>0.000000</td>\n",
       "      <td>0.000000</td>\n",
       "      <td>1.442584e+05</td>\n",
       "      <td>4.958504e+07</td>\n",
       "    </tr>\n",
       "    <tr>\n",
       "      <th>oldbalanceDest</th>\n",
       "      <td>6362620.0</td>\n",
       "      <td>1.100702e+06</td>\n",
       "      <td>3.399180e+06</td>\n",
       "      <td>0.0</td>\n",
       "      <td>0.000000</td>\n",
       "      <td>132705.665000</td>\n",
       "      <td>9.430367e+05</td>\n",
       "      <td>3.560159e+08</td>\n",
       "    </tr>\n",
       "    <tr>\n",
       "      <th>newbalanceDest</th>\n",
       "      <td>6362620.0</td>\n",
       "      <td>1.224996e+06</td>\n",
       "      <td>3.674129e+06</td>\n",
       "      <td>0.0</td>\n",
       "      <td>0.000000</td>\n",
       "      <td>214661.440000</td>\n",
       "      <td>1.111909e+06</td>\n",
       "      <td>3.561793e+08</td>\n",
       "    </tr>\n",
       "    <tr>\n",
       "      <th>isFraud</th>\n",
       "      <td>6362620.0</td>\n",
       "      <td>1.290820e-03</td>\n",
       "      <td>3.590480e-02</td>\n",
       "      <td>0.0</td>\n",
       "      <td>0.000000</td>\n",
       "      <td>0.000000</td>\n",
       "      <td>0.000000e+00</td>\n",
       "      <td>1.000000e+00</td>\n",
       "    </tr>\n",
       "    <tr>\n",
       "      <th>isFlaggedFraud</th>\n",
       "      <td>6362620.0</td>\n",
       "      <td>2.514687e-06</td>\n",
       "      <td>1.585775e-03</td>\n",
       "      <td>0.0</td>\n",
       "      <td>0.000000</td>\n",
       "      <td>0.000000</td>\n",
       "      <td>0.000000e+00</td>\n",
       "      <td>1.000000e+00</td>\n",
       "    </tr>\n",
       "    <tr>\n",
       "      <th>amount_ratio</th>\n",
       "      <td>6362620.0</td>\n",
       "      <td>7.067448e+04</td>\n",
       "      <td>5.084243e+05</td>\n",
       "      <td>0.0</td>\n",
       "      <td>0.234401</td>\n",
       "      <td>6.453832</td>\n",
       "      <td>1.228776e+04</td>\n",
       "      <td>9.244552e+07</td>\n",
       "    </tr>\n",
       "    <tr>\n",
       "      <th>balance_change_orig</th>\n",
       "      <td>6362620.0</td>\n",
       "      <td>3.847390e+02</td>\n",
       "      <td>9.987308e+03</td>\n",
       "      <td>-1.0</td>\n",
       "      <td>-0.833282</td>\n",
       "      <td>0.000000</td>\n",
       "      <td>0.000000e+00</td>\n",
       "      <td>8.131608e+05</td>\n",
       "    </tr>\n",
       "    <tr>\n",
       "      <th>balance_change_dest</th>\n",
       "      <td>6362620.0</td>\n",
       "      <td>1.960678e+04</td>\n",
       "      <td>2.647835e+05</td>\n",
       "      <td>-1.0</td>\n",
       "      <td>0.000000</td>\n",
       "      <td>0.000000</td>\n",
       "      <td>2.397972e-01</td>\n",
       "      <td>6.630842e+07</td>\n",
       "    </tr>\n",
       "  </tbody>\n",
       "</table>\n",
       "</div>"
      ],
      "text/plain": [
       "                         count          mean           std  min           25%  \\\n",
       "step                 6362620.0  2.433972e+02  1.423320e+02  1.0    156.000000   \n",
       "amount               6362620.0  1.798619e+05  6.038582e+05  0.0  13389.570000   \n",
       "oldbalanceOrg        6362620.0  8.338831e+05  2.888243e+06  0.0      0.000000   \n",
       "newbalanceOrig       6362620.0  8.551137e+05  2.924049e+06  0.0      0.000000   \n",
       "oldbalanceDest       6362620.0  1.100702e+06  3.399180e+06  0.0      0.000000   \n",
       "newbalanceDest       6362620.0  1.224996e+06  3.674129e+06  0.0      0.000000   \n",
       "isFraud              6362620.0  1.290820e-03  3.590480e-02  0.0      0.000000   \n",
       "isFlaggedFraud       6362620.0  2.514687e-06  1.585775e-03  0.0      0.000000   \n",
       "amount_ratio         6362620.0  7.067448e+04  5.084243e+05  0.0      0.234401   \n",
       "balance_change_orig  6362620.0  3.847390e+02  9.987308e+03 -1.0     -0.833282   \n",
       "balance_change_dest  6362620.0  1.960678e+04  2.647835e+05 -1.0      0.000000   \n",
       "\n",
       "                               50%           75%           max  \n",
       "step                    239.000000  3.350000e+02  7.430000e+02  \n",
       "amount                74871.940000  2.087215e+05  9.244552e+07  \n",
       "oldbalanceOrg         14208.000000  1.073152e+05  5.958504e+07  \n",
       "newbalanceOrig            0.000000  1.442584e+05  4.958504e+07  \n",
       "oldbalanceDest       132705.665000  9.430367e+05  3.560159e+08  \n",
       "newbalanceDest       214661.440000  1.111909e+06  3.561793e+08  \n",
       "isFraud                   0.000000  0.000000e+00  1.000000e+00  \n",
       "isFlaggedFraud            0.000000  0.000000e+00  1.000000e+00  \n",
       "amount_ratio              6.453832  1.228776e+04  9.244552e+07  \n",
       "balance_change_orig       0.000000  0.000000e+00  8.131608e+05  \n",
       "balance_change_dest       0.000000  2.397972e-01  6.630842e+07  "
      ]
     },
     "execution_count": 27,
     "metadata": {},
     "output_type": "execute_result"
    }
   ],
   "source": [
    "df.describe().T"
   ]
  },
  {
   "cell_type": "code",
   "execution_count": 6,
   "id": "d2ac5afa-8b54-42c4-a438-417162478c77",
   "metadata": {},
   "outputs": [
    {
     "data": {
      "text/plain": [
       "(6362620, 11)"
      ]
     },
     "execution_count": 6,
     "metadata": {},
     "output_type": "execute_result"
    }
   ],
   "source": [
    "df.shape"
   ]
  },
  {
   "cell_type": "markdown",
   "id": "3f72509c-6399-47cd-aafb-f235f3a5412f",
   "metadata": {},
   "source": [
    "### Data Cleaning "
   ]
  },
  {
   "cell_type": "code",
   "execution_count": 7,
   "id": "3ce23d27-e669-4205-bba6-404e7fef2538",
   "metadata": {},
   "outputs": [
    {
     "data": {
      "text/plain": [
       "step              0\n",
       "type              0\n",
       "amount            0\n",
       "nameOrig          0\n",
       "oldbalanceOrg     0\n",
       "newbalanceOrig    0\n",
       "nameDest          0\n",
       "oldbalanceDest    0\n",
       "newbalanceDest    0\n",
       "isFraud           0\n",
       "isFlaggedFraud    0\n",
       "dtype: int64"
      ]
     },
     "execution_count": 7,
     "metadata": {},
     "output_type": "execute_result"
    }
   ],
   "source": [
    "df.isna().sum()"
   ]
  },
  {
   "cell_type": "code",
   "execution_count": 8,
   "id": "216a99be-c0d1-447f-a497-2f8410652bf5",
   "metadata": {},
   "outputs": [
    {
     "data": {
      "text/plain": [
       "0          False\n",
       "1          False\n",
       "2          False\n",
       "3          False\n",
       "4          False\n",
       "           ...  \n",
       "6362615    False\n",
       "6362616    False\n",
       "6362617    False\n",
       "6362618    False\n",
       "6362619    False\n",
       "Length: 6362620, dtype: bool"
      ]
     },
     "execution_count": 8,
     "metadata": {},
     "output_type": "execute_result"
    }
   ],
   "source": [
    "df.duplicated()"
   ]
  },
  {
   "cell_type": "code",
   "execution_count": 9,
   "id": "04ccf1e1-4d2d-4da4-9713-cb836aaab41e",
   "metadata": {},
   "outputs": [
    {
     "data": {
      "text/plain": [
       "<Axes: >"
      ]
     },
     "execution_count": 9,
     "metadata": {},
     "output_type": "execute_result"
    },
    {
     "data": {
      "image/png": "[encoded data removed]",
      "text/plain": [
       "<Figure size 640x480 with 2 Axes>"
      ]
     },
     "metadata": {},
     "output_type": "display_data"
    }
   ],
   "source": [
    "sns.heatmap(df.isnull(), cbar=True, yticklabels=False )"
   ]
  },
  {
   "cell_type": "markdown",
   "id": "e835d596-d2e0-4ddd-84ea-47caeb99d28d",
   "metadata": {},
   "source": [
    "* Duplicates and null values are handled already hence dataset is clean"
   ]
  },
  {
   "cell_type": "markdown",
   "id": "b84909a7-4234-474d-a584-b0ecdbeda649",
   "metadata": {},
   "source": [
    "### Feature Engineering:\n",
    "* Adding new feature to the existing dataset"
   ]
  },
  {
   "cell_type": "code",
   "execution_count": 10,
   "id": "f13361f6-6e6c-48ed-91ce-95555c07b679",
   "metadata": {},
   "outputs": [
    {
     "data": {
      "text/plain": [
       "array([0, 1], dtype=int64)"
      ]
     },
     "execution_count": 10,
     "metadata": {},
     "output_type": "execute_result"
    }
   ],
   "source": [
    "df['isFlaggedFraud'].unique()"
   ]
  },
  {
   "cell_type": "code",
   "execution_count": 11,
   "id": "076bf059-44a0-4bd6-9ed6-e5b5245cd450",
   "metadata": {},
   "outputs": [],
   "source": [
    "df['amount_ratio'] = df['amount'] / (df['oldbalanceOrg'] + 1)\n",
    "df['balance_change_orig'] = (df['newbalanceOrig'] - df['oldbalanceOrg']) / (df['oldbalanceOrg'] + 1)\n",
    "df['balance_change_dest'] = (df['newbalanceDest'] - df['oldbalanceDest']) / (df['oldbalanceDest'] + 1)"
   ]
  },
  {
   "cell_type": "code",
   "execution_count": 25,
   "id": "c7275d5b-8b8f-4b8f-826c-e06d9db3c436",
   "metadata": {},
   "outputs": [
    {
     "data": {
      "text/html": [
       "<div>\n",
       "<style scoped>\n",
       "    .dataframe tbody tr th:only-of-type {\n",
       "        vertical-align: middle;\n",
       "    }\n",
       "\n",
       "    .dataframe tbody tr th {\n",
       "        vertical-align: top;\n",
       "    }\n",
       "\n",
       "    .dataframe thead th {\n",
       "        text-align: right;\n",
       "    }\n",
       "</style>\n",
       "<table border=\"1\" class=\"dataframe\">\n",
       "  <thead>\n",
       "    <tr style=\"text-align: right;\">\n",
       "      <th></th>\n",
       "      <th>0</th>\n",
       "      <th>1</th>\n",
       "      <th>2</th>\n",
       "      <th>3</th>\n",
       "      <th>4</th>\n",
       "    </tr>\n",
       "  </thead>\n",
       "  <tbody>\n",
       "    <tr>\n",
       "      <th>step</th>\n",
       "      <td>1</td>\n",
       "      <td>1</td>\n",
       "      <td>1</td>\n",
       "      <td>1</td>\n",
       "      <td>1</td>\n",
       "    </tr>\n",
       "    <tr>\n",
       "      <th>type</th>\n",
       "      <td>PAYMENT</td>\n",
       "      <td>PAYMENT</td>\n",
       "      <td>TRANSFER</td>\n",
       "      <td>CASH_OUT</td>\n",
       "      <td>PAYMENT</td>\n",
       "    </tr>\n",
       "    <tr>\n",
       "      <th>amount</th>\n",
       "      <td>9839.64</td>\n",
       "      <td>1864.28</td>\n",
       "      <td>181.0</td>\n",
       "      <td>181.0</td>\n",
       "      <td>11668.14</td>\n",
       "    </tr>\n",
       "    <tr>\n",
       "      <th>nameOrig</th>\n",
       "      <td>C1231006815</td>\n",
       "      <td>C1666544295</td>\n",
       "      <td>C1305486145</td>\n",
       "      <td>C840083671</td>\n",
       "      <td>C2048537720</td>\n",
       "    </tr>\n",
       "    <tr>\n",
       "      <th>oldbalanceOrg</th>\n",
       "      <td>170136.0</td>\n",
       "      <td>21249.0</td>\n",
       "      <td>181.0</td>\n",
       "      <td>181.0</td>\n",
       "      <td>41554.0</td>\n",
       "    </tr>\n",
       "    <tr>\n",
       "      <th>newbalanceOrig</th>\n",
       "      <td>160296.36</td>\n",
       "      <td>19384.72</td>\n",
       "      <td>0.0</td>\n",
       "      <td>0.0</td>\n",
       "      <td>29885.86</td>\n",
       "    </tr>\n",
       "    <tr>\n",
       "      <th>nameDest</th>\n",
       "      <td>M1979787155</td>\n",
       "      <td>M2044282225</td>\n",
       "      <td>C553264065</td>\n",
       "      <td>C38997010</td>\n",
       "      <td>M1230701703</td>\n",
       "    </tr>\n",
       "    <tr>\n",
       "      <th>oldbalanceDest</th>\n",
       "      <td>0.0</td>\n",
       "      <td>0.0</td>\n",
       "      <td>0.0</td>\n",
       "      <td>21182.0</td>\n",
       "      <td>0.0</td>\n",
       "    </tr>\n",
       "    <tr>\n",
       "      <th>newbalanceDest</th>\n",
       "      <td>0.0</td>\n",
       "      <td>0.0</td>\n",
       "      <td>0.0</td>\n",
       "      <td>0.0</td>\n",
       "      <td>0.0</td>\n",
       "    </tr>\n",
       "    <tr>\n",
       "      <th>isFraud</th>\n",
       "      <td>0</td>\n",
       "      <td>0</td>\n",
       "      <td>1</td>\n",
       "      <td>1</td>\n",
       "      <td>0</td>\n",
       "    </tr>\n",
       "    <tr>\n",
       "      <th>isFlaggedFraud</th>\n",
       "      <td>0</td>\n",
       "      <td>0</td>\n",
       "      <td>0</td>\n",
       "      <td>0</td>\n",
       "      <td>0</td>\n",
       "    </tr>\n",
       "    <tr>\n",
       "      <th>amount_ratio</th>\n",
       "      <td>0.057834</td>\n",
       "      <td>0.087731</td>\n",
       "      <td>0.994505</td>\n",
       "      <td>0.994505</td>\n",
       "      <td>0.280788</td>\n",
       "    </tr>\n",
       "    <tr>\n",
       "      <th>balance_change_orig</th>\n",
       "      <td>-0.057834</td>\n",
       "      <td>-0.087731</td>\n",
       "      <td>-0.994505</td>\n",
       "      <td>-0.994505</td>\n",
       "      <td>-0.280788</td>\n",
       "    </tr>\n",
       "    <tr>\n",
       "      <th>balance_change_dest</th>\n",
       "      <td>0.0</td>\n",
       "      <td>0.0</td>\n",
       "      <td>0.0</td>\n",
       "      <td>-0.999953</td>\n",
       "      <td>0.0</td>\n",
       "    </tr>\n",
       "  </tbody>\n",
       "</table>\n",
       "</div>"
      ],
      "text/plain": [
       "                               0            1            2           3  \\\n",
       "step                           1            1            1           1   \n",
       "type                     PAYMENT      PAYMENT     TRANSFER    CASH_OUT   \n",
       "amount                   9839.64      1864.28        181.0       181.0   \n",
       "nameOrig             C1231006815  C1666544295  C1305486145  C840083671   \n",
       "oldbalanceOrg           170136.0      21249.0        181.0       181.0   \n",
       "newbalanceOrig         160296.36     19384.72          0.0         0.0   \n",
       "nameDest             M1979787155  M2044282225   C553264065   C38997010   \n",
       "oldbalanceDest               0.0          0.0          0.0     21182.0   \n",
       "newbalanceDest               0.0          0.0          0.0         0.0   \n",
       "isFraud                        0            0            1           1   \n",
       "isFlaggedFraud                 0            0            0           0   \n",
       "amount_ratio            0.057834     0.087731     0.994505    0.994505   \n",
       "balance_change_orig    -0.057834    -0.087731    -0.994505   -0.994505   \n",
       "balance_change_dest          0.0          0.0          0.0   -0.999953   \n",
       "\n",
       "                               4  \n",
       "step                           1  \n",
       "type                     PAYMENT  \n",
       "amount                  11668.14  \n",
       "nameOrig             C2048537720  \n",
       "oldbalanceOrg            41554.0  \n",
       "newbalanceOrig          29885.86  \n",
       "nameDest             M1230701703  \n",
       "oldbalanceDest               0.0  \n",
       "newbalanceDest               0.0  \n",
       "isFraud                        0  \n",
       "isFlaggedFraud                 0  \n",
       "amount_ratio            0.280788  \n",
       "balance_change_orig    -0.280788  \n",
       "balance_change_dest          0.0  "
      ]
     },
     "execution_count": 25,
     "metadata": {},
     "output_type": "execute_result"
    }
   ],
   "source": [
    "df.head().T"
   ]
  },
  {
   "cell_type": "markdown",
   "id": "c890e9ef-1665-4dfd-b783-78e66f836877",
   "metadata": {},
   "source": [
    "### Checking Correlation "
   ]
  },
  {
   "cell_type": "code",
   "execution_count": 26,
   "id": "378c9cd0-7429-4008-8a04-c050223c0cb4",
   "metadata": {},
   "outputs": [
    {
     "data": {
      "text/html": [
       "<div>\n",
       "<style scoped>\n",
       "    .dataframe tbody tr th:only-of-type {\n",
       "        vertical-align: middle;\n",
       "    }\n",
       "\n",
       "    .dataframe tbody tr th {\n",
       "        vertical-align: top;\n",
       "    }\n",
       "\n",
       "    .dataframe thead th {\n",
       "        text-align: right;\n",
       "    }\n",
       "</style>\n",
       "<table border=\"1\" class=\"dataframe\">\n",
       "  <thead>\n",
       "    <tr style=\"text-align: right;\">\n",
       "      <th></th>\n",
       "      <th>step</th>\n",
       "      <th>amount</th>\n",
       "      <th>oldbalanceOrg</th>\n",
       "      <th>newbalanceOrig</th>\n",
       "      <th>oldbalanceDest</th>\n",
       "      <th>newbalanceDest</th>\n",
       "      <th>isFraud</th>\n",
       "      <th>isFlaggedFraud</th>\n",
       "      <th>amount_ratio</th>\n",
       "      <th>balance_change_orig</th>\n",
       "      <th>balance_change_dest</th>\n",
       "    </tr>\n",
       "  </thead>\n",
       "  <tbody>\n",
       "    <tr>\n",
       "      <th>step</th>\n",
       "      <td>1.000000</td>\n",
       "      <td>0.022373</td>\n",
       "      <td>-0.010058</td>\n",
       "      <td>-0.010299</td>\n",
       "      <td>0.027665</td>\n",
       "      <td>0.025888</td>\n",
       "      <td>0.031578</td>\n",
       "      <td>0.003277</td>\n",
       "      <td>0.013673</td>\n",
       "      <td>-0.004818</td>\n",
       "      <td>0.006014</td>\n",
       "    </tr>\n",
       "    <tr>\n",
       "      <th>amount</th>\n",
       "      <td>0.022373</td>\n",
       "      <td>1.000000</td>\n",
       "      <td>-0.002762</td>\n",
       "      <td>-0.007861</td>\n",
       "      <td>0.294137</td>\n",
       "      <td>0.459304</td>\n",
       "      <td>0.076688</td>\n",
       "      <td>0.012295</td>\n",
       "      <td>0.817079</td>\n",
       "      <td>0.005668</td>\n",
       "      <td>0.224227</td>\n",
       "    </tr>\n",
       "    <tr>\n",
       "      <th>oldbalanceOrg</th>\n",
       "      <td>-0.010058</td>\n",
       "      <td>-0.002762</td>\n",
       "      <td>1.000000</td>\n",
       "      <td>0.998803</td>\n",
       "      <td>0.066243</td>\n",
       "      <td>0.042029</td>\n",
       "      <td>0.010154</td>\n",
       "      <td>0.003835</td>\n",
       "      <td>-0.040134</td>\n",
       "      <td>-0.011121</td>\n",
       "      <td>-0.017464</td>\n",
       "    </tr>\n",
       "    <tr>\n",
       "      <th>newbalanceOrig</th>\n",
       "      <td>-0.010299</td>\n",
       "      <td>-0.007861</td>\n",
       "      <td>0.998803</td>\n",
       "      <td>1.000000</td>\n",
       "      <td>0.067812</td>\n",
       "      <td>0.041837</td>\n",
       "      <td>-0.008148</td>\n",
       "      <td>0.003776</td>\n",
       "      <td>-0.040582</td>\n",
       "      <td>-0.007722</td>\n",
       "      <td>-0.021361</td>\n",
       "    </tr>\n",
       "    <tr>\n",
       "      <th>oldbalanceDest</th>\n",
       "      <td>0.027665</td>\n",
       "      <td>0.294137</td>\n",
       "      <td>0.066243</td>\n",
       "      <td>0.067812</td>\n",
       "      <td>1.000000</td>\n",
       "      <td>0.976569</td>\n",
       "      <td>-0.005885</td>\n",
       "      <td>-0.000513</td>\n",
       "      <td>0.307827</td>\n",
       "      <td>0.010978</td>\n",
       "      <td>-0.023978</td>\n",
       "    </tr>\n",
       "    <tr>\n",
       "      <th>newbalanceDest</th>\n",
       "      <td>0.025888</td>\n",
       "      <td>0.459304</td>\n",
       "      <td>0.042029</td>\n",
       "      <td>0.041837</td>\n",
       "      <td>0.976569</td>\n",
       "      <td>1.000000</td>\n",
       "      <td>0.000535</td>\n",
       "      <td>-0.000529</td>\n",
       "      <td>0.437502</td>\n",
       "      <td>0.006524</td>\n",
       "      <td>0.047786</td>\n",
       "    </tr>\n",
       "    <tr>\n",
       "      <th>isFraud</th>\n",
       "      <td>0.031578</td>\n",
       "      <td>0.076688</td>\n",
       "      <td>0.010154</td>\n",
       "      <td>-0.008148</td>\n",
       "      <td>-0.005885</td>\n",
       "      <td>0.000535</td>\n",
       "      <td>1.000000</td>\n",
       "      <td>0.044109</td>\n",
       "      <td>-0.004915</td>\n",
       "      <td>-0.001388</td>\n",
       "      <td>0.029041</td>\n",
       "    </tr>\n",
       "    <tr>\n",
       "      <th>isFlaggedFraud</th>\n",
       "      <td>0.003277</td>\n",
       "      <td>0.012295</td>\n",
       "      <td>0.003835</td>\n",
       "      <td>0.003776</td>\n",
       "      <td>-0.000513</td>\n",
       "      <td>-0.000529</td>\n",
       "      <td>0.044109</td>\n",
       "      <td>1.000000</td>\n",
       "      <td>-0.000220</td>\n",
       "      <td>-0.000061</td>\n",
       "      <td>-0.000117</td>\n",
       "    </tr>\n",
       "    <tr>\n",
       "      <th>amount_ratio</th>\n",
       "      <td>0.013673</td>\n",
       "      <td>0.817079</td>\n",
       "      <td>-0.040134</td>\n",
       "      <td>-0.040582</td>\n",
       "      <td>0.307827</td>\n",
       "      <td>0.437502</td>\n",
       "      <td>-0.004915</td>\n",
       "      <td>-0.000220</td>\n",
       "      <td>1.000000</td>\n",
       "      <td>0.014318</td>\n",
       "      <td>-0.001310</td>\n",
       "    </tr>\n",
       "    <tr>\n",
       "      <th>balance_change_orig</th>\n",
       "      <td>-0.004818</td>\n",
       "      <td>0.005668</td>\n",
       "      <td>-0.011121</td>\n",
       "      <td>-0.007722</td>\n",
       "      <td>0.010978</td>\n",
       "      <td>0.006524</td>\n",
       "      <td>-0.001388</td>\n",
       "      <td>-0.000061</td>\n",
       "      <td>0.014318</td>\n",
       "      <td>1.000000</td>\n",
       "      <td>-0.002557</td>\n",
       "    </tr>\n",
       "    <tr>\n",
       "      <th>balance_change_dest</th>\n",
       "      <td>0.006014</td>\n",
       "      <td>0.224227</td>\n",
       "      <td>-0.017464</td>\n",
       "      <td>-0.021361</td>\n",
       "      <td>-0.023978</td>\n",
       "      <td>0.047786</td>\n",
       "      <td>0.029041</td>\n",
       "      <td>-0.000117</td>\n",
       "      <td>-0.001310</td>\n",
       "      <td>-0.002557</td>\n",
       "      <td>1.000000</td>\n",
       "    </tr>\n",
       "  </tbody>\n",
       "</table>\n",
       "</div>"
      ],
      "text/plain": [
       "                         step    amount  oldbalanceOrg  newbalanceOrig  \\\n",
       "step                 1.000000  0.022373      -0.010058       -0.010299   \n",
       "amount               0.022373  1.000000      -0.002762       -0.007861   \n",
       "oldbalanceOrg       -0.010058 -0.002762       1.000000        0.998803   \n",
       "newbalanceOrig      -0.010299 -0.007861       0.998803        1.000000   \n",
       "oldbalanceDest       0.027665  0.294137       0.066243        0.067812   \n",
       "newbalanceDest       0.025888  0.459304       0.042029        0.041837   \n",
       "isFraud              0.031578  0.076688       0.010154       -0.008148   \n",
       "isFlaggedFraud       0.003277  0.012295       0.003835        0.003776   \n",
       "amount_ratio         0.013673  0.817079      -0.040134       -0.040582   \n",
       "balance_change_orig -0.004818  0.005668      -0.011121       -0.007722   \n",
       "balance_change_dest  0.006014  0.224227      -0.017464       -0.021361   \n",
       "\n",
       "                     oldbalanceDest  newbalanceDest   isFraud  isFlaggedFraud  \\\n",
       "step                       0.027665        0.025888  0.031578        0.003277   \n",
       "amount                     0.294137        0.459304  0.076688        0.012295   \n",
       "oldbalanceOrg              0.066243        0.042029  0.010154        0.003835   \n",
       "newbalanceOrig             0.067812        0.041837 -0.008148        0.003776   \n",
       "oldbalanceDest             1.000000        0.976569 -0.005885       -0.000513   \n",
       "newbalanceDest             0.976569        1.000000  0.000535       -0.000529   \n",
       "isFraud                   -0.005885        0.000535  1.000000        0.044109   \n",
       "isFlaggedFraud            -0.000513       -0.000529  0.044109        1.000000   \n",
       "amount_ratio               0.307827        0.437502 -0.004915       -0.000220   \n",
       "balance_change_orig        0.010978        0.006524 -0.001388       -0.000061   \n",
       "balance_change_dest       -0.023978        0.047786  0.029041       -0.000117   \n",
       "\n",
       "                     amount_ratio  balance_change_orig  balance_change_dest  \n",
       "step                     0.013673            -0.004818             0.006014  \n",
       "amount                   0.817079             0.005668             0.224227  \n",
       "oldbalanceOrg           -0.040134            -0.011121            -0.017464  \n",
       "newbalanceOrig          -0.040582            -0.007722            -0.021361  \n",
       "oldbalanceDest           0.307827             0.010978            -0.023978  \n",
       "newbalanceDest           0.437502             0.006524             0.047786  \n",
       "isFraud                 -0.004915            -0.001388             0.029041  \n",
       "isFlaggedFraud          -0.000220            -0.000061            -0.000117  \n",
       "amount_ratio             1.000000             0.014318            -0.001310  \n",
       "balance_change_orig      0.014318             1.000000            -0.002557  \n",
       "balance_change_dest     -0.001310            -0.002557             1.000000  "
      ]
     },
     "execution_count": 26,
     "metadata": {},
     "output_type": "execute_result"
    }
   ],
   "source": [
    "df.corr(numeric_only=True).T"
   ]
  },
  {
   "cell_type": "code",
   "execution_count": 14,
   "id": "5082a40e-31c2-46b5-89ef-ba01ef8684bc",
   "metadata": {},
   "outputs": [
    {
     "data": {
      "text/plain": [
       "<Axes: >"
      ]
     },
     "execution_count": 14,
     "metadata": {},
     "output_type": "execute_result"
    },
    {
     "data": {
      "image/png": "[encoded data removed]",
      "text/plain": [
       "<Figure size 640x480 with 2 Axes>"
      ]
     },
     "metadata": {},
     "output_type": "display_data"
    }
   ],
   "source": [
    "sns.heatmap(df.corr(numeric_only=True))"
   ]
  },
  {
   "cell_type": "markdown",
   "id": "c37569f7-0081-4ae9-81c9-e44a91cfaea8",
   "metadata": {},
   "source": [
    "### Handling Class Imbalance"
   ]
  },
  {
   "cell_type": "markdown",
   "id": "85a908a8-fa9f-4b79-958d-917a2f908e2f",
   "metadata": {},
   "source": [
    "#### Checking for Imbalance\n",
    "* Using the SMOTE i.e. Synthetic Minority Oversampling technique\n",
    "* Class imbalance occurs when one class in the dataset is significantly underrepresented compared to other classes, which can lead to biased model performance favoring the majority class.\n",
    "* Class imbalance leads to biased models favoring the majority class."
   ]
  },
  {
   "cell_type": "code",
   "execution_count": 15,
   "id": "45241e6d-2cf1-44f4-8771-28c46f394284",
   "metadata": {},
   "outputs": [
    {
     "name": "stdout",
     "output_type": "stream",
     "text": [
      "Original unbalanced dataset shape: 6362620\n"
     ]
    }
   ],
   "source": [
    "print('Original unbalanced dataset shape:', len(df))"
   ]
  },
  {
   "cell_type": "code",
   "execution_count": 16,
   "id": "6efd9bcc-cd66-4fd5-8a48-f6c39db75a65",
   "metadata": {},
   "outputs": [],
   "source": [
    "data = pd.get_dummies(df, columns=['type'], drop_first=True)\n",
    "\n",
    "# Define features and target\n",
    "X = data.drop(['isFraud', 'nameOrig', 'nameDest'], axis=1)\n",
    "y = data['isFraud']"
   ]
  },
  {
   "cell_type": "markdown",
   "id": "235e073b-d6b7-454e-bb1a-2c2908aa8bd0",
   "metadata": {},
   "source": [
    "### Splitting Data"
   ]
  },
  {
   "cell_type": "code",
   "execution_count": 17,
   "id": "08135de9-22a4-404a-9ca6-7867cca315ca",
   "metadata": {},
   "outputs": [],
   "source": [
    "X_train, X_test, y_train, y_test = train_test_split(X, y, test_size=0.3, random_state=42, stratify=y)"
   ]
  },
  {
   "cell_type": "code",
   "execution_count": 18,
   "id": "46189681-bc66-46e4-8d6b-d88f3a422075",
   "metadata": {},
   "outputs": [],
   "source": [
    "smote = SMOTE()\n",
    "X_train_sm, y_train_sm = smote.fit_resample(X_train, y_train)"
   ]
  },
  {
   "cell_type": "code",
   "execution_count": 19,
   "id": "edf80132-40de-4f6e-9343-4b500cf2de28",
   "metadata": {},
   "outputs": [
    {
     "name": "stdout",
     "output_type": "stream",
     "text": [
      "Resampled balanced dataset shape:  8896170\n"
     ]
    }
   ],
   "source": [
    "print('Resampled balanced dataset shape: ', len(y_train_sm))"
   ]
  },
  {
   "cell_type": "markdown",
   "id": "2a98f3b8-dbb0-48ac-98f3-84f82fb82561",
   "metadata": {},
   "source": [
    "* SMOTE increases the dataset size by generating synthetic samples to balance the class distribution, which helps in training more robust machine learning models."
   ]
  },
  {
   "cell_type": "markdown",
   "id": "083a3db6-019e-42e5-bbed-1d66a082a78c",
   "metadata": {},
   "source": [
    "### Data Transformation"
   ]
  },
  {
   "cell_type": "code",
   "execution_count": 20,
   "id": "f40068e8-2f87-4440-ad86-1a493a21f874",
   "metadata": {},
   "outputs": [],
   "source": [
    "scaler = StandardScaler()\n",
    "X_train_sm = scaler.fit_transform(X_train_sm)\n",
    "X_test = scaler.transform(X_test)"
   ]
  },
  {
   "cell_type": "markdown",
   "id": "a47b5f84-4e8d-4807-846b-197b314a7eca",
   "metadata": {},
   "source": [
    "### Training Logistic Regression Model"
   ]
  },
  {
   "cell_type": "code",
   "execution_count": 21,
   "id": "bb4bb94b-615c-4a7f-aeb2-b8dfc02c8e98",
   "metadata": {},
   "outputs": [
    {
     "name": "stderr",
     "output_type": "stream",
     "text": [
      "C:\\Users\\hp\\AppData\\Local\\Programs\\Python\\Python311\\Lib\\site-packages\\sklearn\\linear_model\\_logistic.py:458: ConvergenceWarning: lbfgs failed to converge (status=1):\n",
      "STOP: TOTAL NO. of ITERATIONS REACHED LIMIT.\n",
      "\n",
      "Increase the number of iterations (max_iter) or scale the data as shown in:\n",
      "    https://scikit-learn.org/stable/modules/preprocessing.html\n",
      "Please also refer to the documentation for alternative solver options:\n",
      "    https://scikit-learn.org/stable/modules/linear_model.html#logistic-regression\n",
      "  n_iter_i = _check_optimize_result(\n"
     ]
    },
    {
     "data": {
      "text/html": [
       "<style>#sk-container-id-1 {color: black;background-color: white;}#sk-container-id-1 pre{padding: 0;}#sk-container-id-1 div.sk-toggleable {background-color: white;}#sk-container-id-1 label.sk-toggleable__label {cursor: pointer;display: block;width: 100%;margin-bottom: 0;padding: 0.3em;box-sizing: border-box;text-align: center;}#sk-container-id-1 label.sk-toggleable__label-arrow:before {content: \"▸\";float: left;margin-right: 0.25em;color: #696969;}#sk-container-id-1 label.sk-toggleable__label-arrow:hover:before {color: black;}#sk-container-id-1 div.sk-estimator:hover label.sk-toggleable__label-arrow:before {color: black;}#sk-container-id-1 div.sk-toggleable__content {max-height: 0;max-width: 0;overflow: hidden;text-align: left;background-color: #f0f8ff;}#sk-container-id-1 div.sk-toggleable__content pre {margin: 0.2em;color: black;border-radius: 0.25em;background-color: #f0f8ff;}#sk-container-id-1 input.sk-toggleable__control:checked~div.sk-toggleable__content {max-height: 200px;max-width: 100%;overflow: auto;}#sk-container-id-1 input.sk-toggleable__control:checked~label.sk-toggleable__label-arrow:before {content: \"▾\";}#sk-container-id-1 div.sk-estimator input.sk-toggleable__control:checked~label.sk-toggleable__label {background-color: #d4ebff;}#sk-container-id-1 div.sk-label input.sk-toggleable__control:checked~label.sk-toggleable__label {background-color: #d4ebff;}#sk-container-id-1 input.sk-hidden--visually {border: 0;clip: rect(1px 1px 1px 1px);clip: rect(1px, 1px, 1px, 1px);height: 1px;margin: -1px;overflow: hidden;padding: 0;position: absolute;width: 1px;}#sk-container-id-1 div.sk-estimator {font-family: monospace;background-color: #f0f8ff;border: 1px dotted black;border-radius: 0.25em;box-sizing: border-box;margin-bottom: 0.5em;}#sk-container-id-1 div.sk-estimator:hover {background-color: #d4ebff;}#sk-container-id-1 div.sk-parallel-item::after {content: \"\";width: 100%;border-bottom: 1px solid gray;flex-grow: 1;}#sk-container-id-1 div.sk-label:hover label.sk-toggleable__label {background-color: #d4ebff;}#sk-container-id-1 div.sk-serial::before {content: \"\";position: absolute;border-left: 1px solid gray;box-sizing: border-box;top: 0;bottom: 0;left: 50%;z-index: 0;}#sk-container-id-1 div.sk-serial {display: flex;flex-direction: column;align-items: center;background-color: white;padding-right: 0.2em;padding-left: 0.2em;position: relative;}#sk-container-id-1 div.sk-item {position: relative;z-index: 1;}#sk-container-id-1 div.sk-parallel {display: flex;align-items: stretch;justify-content: center;background-color: white;position: relative;}#sk-container-id-1 div.sk-item::before, #sk-container-id-1 div.sk-parallel-item::before {content: \"\";position: absolute;border-left: 1px solid gray;box-sizing: border-box;top: 0;bottom: 0;left: 50%;z-index: -1;}#sk-container-id-1 div.sk-parallel-item {display: flex;flex-direction: column;z-index: 1;position: relative;background-color: white;}#sk-container-id-1 div.sk-parallel-item:first-child::after {align-self: flex-end;width: 50%;}#sk-container-id-1 div.sk-parallel-item:last-child::after {align-self: flex-start;width: 50%;}#sk-container-id-1 div.sk-parallel-item:only-child::after {width: 0;}#sk-container-id-1 div.sk-dashed-wrapped {border: 1px dashed gray;margin: 0 0.4em 0.5em 0.4em;box-sizing: border-box;padding-bottom: 0.4em;background-color: white;}#sk-container-id-1 div.sk-label label {font-family: monospace;font-weight: bold;display: inline-block;line-height: 1.2em;}#sk-container-id-1 div.sk-label-container {text-align: center;}#sk-container-id-1 div.sk-container {/* jupyter's `normalize.less` sets `[hidden] { display: none; }` but bootstrap.min.css set `[hidden] { display: none !important; }` so we also need the `!important` here to be able to override the default hidden behavior on the sphinx rendered scikit-learn.org. See: https://github.com/scikit-learn/scikit-learn/issues/21755 */display: inline-block !important;position: relative;}#sk-container-id-1 div.sk-text-repr-fallback {display: none;}</style><div id=\"sk-container-id-1\" class=\"sk-top-container\"><div class=\"sk-text-repr-fallback\"><pre>LogisticRegression()</pre><b>In a Jupyter environment, please rerun this cell to show the HTML representation or trust the notebook. <br />On GitHub, the HTML representation is unable to render, please try loading this page with nbviewer.org.</b></div><div class=\"sk-container\" hidden><div class=\"sk-item\"><div class=\"sk-estimator sk-toggleable\"><input class=\"sk-toggleable__control sk-hidden--visually\" id=\"sk-estimator-id-1\" type=\"checkbox\" checked><label for=\"sk-estimator-id-1\" class=\"sk-toggleable__label sk-toggleable__label-arrow\">LogisticRegression</label><div class=\"sk-toggleable__content\"><pre>LogisticRegression()</pre></div></div></div></div></div>"
      ],
      "text/plain": [
       "LogisticRegression()"
      ]
     },
     "execution_count": 21,
     "metadata": {},
     "output_type": "execute_result"
    }
   ],
   "source": [
    "model = LogisticRegression()\n",
    "model.fit(X_train_sm, y_train_sm)"
   ]
  },
  {
   "cell_type": "code",
   "execution_count": 22,
   "id": "ad5838fa-2872-4099-b031-862ea4e65d96",
   "metadata": {},
   "outputs": [],
   "source": [
    "# Predictions\n",
    "y_pred = model.predict(X_test)\n",
    "y_pred_prob = model.predict_proba(X_test)[:, 1]"
   ]
  },
  {
   "cell_type": "markdown",
   "id": "7989ec5a-1339-4c03-bcd7-b2da285b0e80",
   "metadata": {},
   "source": [
    "### Model Evaluation"
   ]
  },
  {
   "cell_type": "code",
   "execution_count": 23,
   "id": "16a9f42f-1e1f-408d-ad7d-85c021498194",
   "metadata": {},
   "outputs": [
    {
     "name": "stdout",
     "output_type": "stream",
     "text": [
      "[[1823812   82510]\n",
      " [     96    2368]]\n"
     ]
    }
   ],
   "source": [
    "print(confusion_matrix(y_test, y_pred))"
   ]
  },
  {
   "cell_type": "code",
   "execution_count": 24,
   "id": "1f094cd2-65b2-4c7e-a532-48fdbb463ee8",
   "metadata": {},
   "outputs": [
    {
     "name": "stdout",
     "output_type": "stream",
     "text": [
      "              precision    recall  f1-score   support\n",
      "\n",
      "           0       1.00      0.96      0.98   1906322\n",
      "           1       0.03      0.96      0.05      2464\n",
      "\n",
      "    accuracy                           0.96   1908786\n",
      "   macro avg       0.51      0.96      0.52   1908786\n",
      "weighted avg       1.00      0.96      0.98   1908786\n",
      "\n"
     ]
    }
   ],
   "source": [
    "print(classification_report(y_test, y_pred))"
   ]
  },
  {
   "cell_type": "markdown",
   "id": "ced9b558-5766-4c23-96e7-a0c6135307ed",
   "metadata": {},
   "source": [
    "### Conclusion: \n",
    "* Accuracy obtained is 96%.\n",
    "* Higher accuracy is due to higher True positive and lower false negative.\n",
    "* Results in considerably higher accuracy probably due to SMOTE that robustly handled the imbalance."
   ]
  }
 ],
 "metadata": {
  "kernelspec": {
   "display_name": "Python 3 (ipykernel)",
   "language": "python",
   "name": "python3"
  },
  "language_info": {
   "codemirror_mode": {
    "name": "ipython",
    "version": 3
   },
   "file_extension": ".py",
   "mimetype": "text/x-python",
   "name": "python",
   "nbconvert_exporter": "python",
   "pygments_lexer": "ipython3",
   "version": "3.11.5"
  }
 },
 "nbformat": 4,
 "nbformat_minor": 5
}
